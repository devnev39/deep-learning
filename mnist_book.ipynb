{
 "cells": [
  {
   "cell_type": "code",
   "execution_count": 1,
   "id": "f6ee8991-50e2-4f81-84ba-770d323bc836",
   "metadata": {},
   "outputs": [
    {
     "name": "stdout",
     "output_type": "stream",
     "text": [
      "Init Plugin\n",
      "Init Graph Optimizer\n",
      "Init Kernel\n"
     ]
    }
   ],
   "source": [
    "import tensorflow as tf\n",
    "from tensorflow import keras\n",
    "from tensorflow.keras import layers"
   ]
  },
  {
   "cell_type": "code",
   "execution_count": 4,
   "id": "45d2dbd7-aa95-48b4-9c05-20706ab19e17",
   "metadata": {},
   "outputs": [],
   "source": [
    "import numpy as np\n",
    "import matplotlib.pyplot as plt"
   ]
  },
  {
   "cell_type": "code",
   "execution_count": 16,
   "id": "08174a08-f5fa-4223-a0f4-a30e16a2eef2",
   "metadata": {},
   "outputs": [],
   "source": [
    "(x_train,y_train),(x_test,y_test) = keras.datasets.mnist.load_data()"
   ]
  },
  {
   "cell_type": "code",
   "execution_count": 17,
   "id": "8e957436-bfd2-4aac-b948-836eb187cdb0",
   "metadata": {},
   "outputs": [],
   "source": [
    "x_train = x_train[...,np.newaxis].astype('float32') / 255.0\n",
    "x_test = x_test[...,np.newaxis].astype('float32') / 255.0"
   ]
  },
  {
   "cell_type": "code",
   "execution_count": 8,
   "id": "ee297a3b-0e76-45cd-a7e8-05cfd911d84a",
   "metadata": {},
   "outputs": [
    {
     "name": "stdout",
     "output_type": "stream",
     "text": [
      "Metal device set to: Apple M1\n",
      "WARNING:tensorflow:Please add `keras.layers.InputLayer` instead of `keras.Input` to Sequential model. `keras.Input` is intended to be used by Functional model.\n"
     ]
    },
    {
     "name": "stderr",
     "output_type": "stream",
     "text": [
      "2021-09-28 16:31:49.419730: I tensorflow/core/common_runtime/pluggable_device/pluggable_device_factory.cc:305] Could not identify NUMA node of platform GPU ID 0, defaulting to 0. Your kernel may not have been built with NUMA support.\n",
      "2021-09-28 16:31:49.419992: I tensorflow/core/common_runtime/pluggable_device/pluggable_device_factory.cc:271] Created TensorFlow device (/job:localhost/replica:0/task:0/device:GPU:0 with 0 MB memory) -> physical PluggableDevice (device: 0, name: METAL, pci bus id: <undefined>)\n"
     ]
    }
   ],
   "source": [
    "model = keras.Sequential([\n",
    "    layers.Input(shape=(28,28,1)),\n",
    "    layers.Conv2D(32,3,activation='relu'),\n",
    "    layers.MaxPooling2D(),\n",
    "    layers.Conv2D(64,3,activation='relu'),\n",
    "    layers.MaxPool2D(),\n",
    "    layers.Flatten(),\n",
    "    layers.Dense(32,activation='relu'),\n",
    "    layers.Dense(10,activation= 'softmax')\n",
    "])"
   ]
  },
  {
   "cell_type": "code",
   "execution_count": 9,
   "id": "5c73659d-1c89-4ebd-bdbe-14b5c7e43a90",
   "metadata": {},
   "outputs": [
    {
     "name": "stdout",
     "output_type": "stream",
     "text": [
      "Model: \"sequential\"\n",
      "_________________________________________________________________\n",
      "Layer (type)                 Output Shape              Param #   \n",
      "=================================================================\n",
      "conv2d (Conv2D)              (None, 26, 26, 32)        320       \n",
      "_________________________________________________________________\n",
      "max_pooling2d (MaxPooling2D) (None, 13, 13, 32)        0         \n",
      "_________________________________________________________________\n",
      "conv2d_1 (Conv2D)            (None, 11, 11, 64)        18496     \n",
      "_________________________________________________________________\n",
      "max_pooling2d_1 (MaxPooling2 (None, 5, 5, 64)          0         \n",
      "_________________________________________________________________\n",
      "flatten (Flatten)            (None, 1600)              0         \n",
      "_________________________________________________________________\n",
      "dense (Dense)                (None, 32)                51232     \n",
      "_________________________________________________________________\n",
      "dense_1 (Dense)              (None, 10)                330       \n",
      "=================================================================\n",
      "Total params: 70,378\n",
      "Trainable params: 70,378\n",
      "Non-trainable params: 0\n",
      "_________________________________________________________________\n"
     ]
    }
   ],
   "source": [
    "model.summary()"
   ]
  },
  {
   "cell_type": "code",
   "execution_count": 12,
   "id": "35418dc8-5688-4234-8dbf-3e66e2d59629",
   "metadata": {},
   "outputs": [],
   "source": [
    "model.compile(\n",
    "    loss = keras.losses.SparseCategoricalCrossentropy(from_logits=False),\n",
    "    optimizer = keras.optimizers.Adam(),\n",
    "    metrics = ['acc']\n",
    ")"
   ]
  },
  {
   "cell_type": "code",
   "execution_count": 20,
   "id": "5ff478ea-52b7-4d82-a04e-d6f2cabe4f15",
   "metadata": {},
   "outputs": [],
   "source": [
    "x_eval = x_test[:4000]\n",
    "y_eval = y_test[:4000]"
   ]
  },
  {
   "cell_type": "code",
   "execution_count": 22,
   "id": "29eb4ff6-5a9e-481d-b1c0-04e9ccb6ed82",
   "metadata": {},
   "outputs": [],
   "source": [
    "x_test = x_test[4001:]\n",
    "y_test = y_test[4001:]"
   ]
  },
  {
   "cell_type": "code",
   "execution_count": 23,
   "id": "3778d7c2-ea46-48dd-a253-ee904d755183",
   "metadata": {},
   "outputs": [
    {
     "name": "stderr",
     "output_type": "stream",
     "text": [
      "2021-09-28 16:40:06.566572: I tensorflow/compiler/mlir/mlir_graph_optimization_pass.cc:176] None of the MLIR Optimization Passes are enabled (registered 2)\n",
      "2021-09-28 16:40:06.570368: W tensorflow/core/platform/profile_utils/cpu_utils.cc:128] Failed to get CPU frequency: 0 Hz\n",
      "2021-09-28 16:40:06.713596: I tensorflow/core/grappler/optimizers/custom_graph_optimizer_registry.cc:112] Plugin optimizer for device_type GPU is enabled.\n"
     ]
    },
    {
     "name": "stdout",
     "output_type": "stream",
     "text": [
      "Epoch 1/10\n",
      "1869/1875 [============================>.] - ETA: 0s - loss: 0.1748 - acc: 0.9455"
     ]
    },
    {
     "name": "stderr",
     "output_type": "stream",
     "text": [
      "2021-09-28 16:40:23.553935: I tensorflow/core/grappler/optimizers/custom_graph_optimizer_registry.cc:112] Plugin optimizer for device_type GPU is enabled.\n"
     ]
    },
    {
     "name": "stdout",
     "output_type": "stream",
     "text": [
      "1875/1875 [==============================] - 18s 8ms/step - loss: 0.1746 - acc: 0.9456 - val_loss: 0.0799 - val_acc: 0.9753\n",
      "Epoch 2/10\n",
      "1875/1875 [==============================] - 16s 9ms/step - loss: 0.0562 - acc: 0.9826 - val_loss: 0.0574 - val_acc: 0.9815\n",
      "Epoch 3/10\n",
      "1875/1875 [==============================] - 16s 9ms/step - loss: 0.0404 - acc: 0.9876 - val_loss: 0.0563 - val_acc: 0.9815\n",
      "Epoch 4/10\n",
      "1875/1875 [==============================] - 16s 9ms/step - loss: 0.0306 - acc: 0.9904 - val_loss: 0.0650 - val_acc: 0.9793\n",
      "Epoch 5/10\n",
      "1875/1875 [==============================] - 15s 8ms/step - loss: 0.0245 - acc: 0.9924 - val_loss: 0.0584 - val_acc: 0.9810\n",
      "Epoch 6/10\n",
      "1875/1875 [==============================] - 15s 8ms/step - loss: 0.0199 - acc: 0.9938 - val_loss: 0.0447 - val_acc: 0.9860\n",
      "Epoch 7/10\n",
      "1875/1875 [==============================] - 15s 8ms/step - loss: 0.0151 - acc: 0.9952 - val_loss: 0.0598 - val_acc: 0.9820\n",
      "Epoch 8/10\n",
      "1875/1875 [==============================] - 16s 8ms/step - loss: 0.0140 - acc: 0.9952 - val_loss: 0.0521 - val_acc: 0.9850\n",
      "Epoch 9/10\n",
      "1875/1875 [==============================] - 16s 9ms/step - loss: 0.0106 - acc: 0.9967 - val_loss: 0.0580 - val_acc: 0.9853\n",
      "Epoch 10/10\n",
      "1875/1875 [==============================] - 16s 8ms/step - loss: 0.0093 - acc: 0.9969 - val_loss: 0.0539 - val_acc: 0.9855\n"
     ]
    }
   ],
   "source": [
    "hist = model.fit(x_train,y_train,epochs=10,validation_data=(x_eval,y_eval))"
   ]
  },
  {
   "cell_type": "code",
   "execution_count": 25,
   "id": "b5b550c3-2af5-40a8-b792-5ae23f2604d5",
   "metadata": {},
   "outputs": [
    {
     "data": {
      "text/plain": [
       "dict_keys(['loss', 'acc', 'val_loss', 'val_acc'])"
      ]
     },
     "execution_count": 25,
     "metadata": {},
     "output_type": "execute_result"
    }
   ],
   "source": [
    "hist.history.keys()"
   ]
  },
  {
   "cell_type": "code",
   "execution_count": 26,
   "id": "c26d07a3-e673-46e5-a29a-cb7e3d10d811",
   "metadata": {},
   "outputs": [
    {
     "data": {
      "text/plain": [
       "<matplotlib.legend.Legend at 0x2a98e3220>"
      ]
     },
     "execution_count": 26,
     "metadata": {},
     "output_type": "execute_result"
    },
    {
     "data": {
      "image/png": "[encoded data removed]",
      "text/plain": [
       "<Figure size 432x288 with 1 Axes>"
      ]
     },
     "metadata": {
      "needs_background": "light"
     },
     "output_type": "display_data"
    }
   ],
   "source": [
    "plt.plot(hist.history['loss'],label='loss')\n",
    "plt.plot(hist.history['val_loss'],label='val_loss')\n",
    "plt.legend()"
   ]
  },
  {
   "cell_type": "code",
   "execution_count": 27,
   "id": "c8338b62-bea6-4156-8b58-f37ad29fd8d3",
   "metadata": {},
   "outputs": [
    {
     "data": {
      "text/plain": [
       "<matplotlib.legend.Legend at 0x2a87a7a30>"
      ]
     },
     "execution_count": 27,
     "metadata": {},
     "output_type": "execute_result"
    },
    {
     "data": {
      "image/png": "[encoded data removed]",
      "text/plain": [
       "<Figure size 432x288 with 1 Axes>"
      ]
     },
     "metadata": {
      "needs_background": "light"
     },
     "output_type": "display_data"
    }
   ],
   "source": [
    "plt.plot(hist.history['acc'],label='acc')\n",
    "plt.plot(hist.history['val_acc'],label='val_acc')\n",
    "plt.legend()"
   ]
  },
  {
   "cell_type": "code",
   "execution_count": 94,
   "id": "1a124248-471d-49aa-bb84-6deb247ceff0",
   "metadata": {},
   "outputs": [],
   "source": [
    "def show(layers,images,size=15,kernal_index=0):\n",
    "    layers_len = len(layers)\n",
    "    fig,ax = plt.subplots(len(images),layers_len)\n",
    "    fig.set_figheight(size)\n",
    "    fig.set_figwidth(size)\n",
    "    for i,img in enumerate(images):\n",
    "        out = img[np.newaxis,...]\n",
    "        for l,layer in enumerate(layers):\n",
    "            out = layer(out)\n",
    "            ax[i][l].imshow(out[0,:,:,toshow])"
   ]
  },
  {
   "cell_type": "code",
   "execution_count": null,
   "id": "37348c18-4a11-4f23-9af9-865fa811a1c6",
   "metadata": {},
   "outputs": [],
   "source": [
    "show(model.layers[:4],x_train[:10],kernal_index=10)"
   ]
  },
  {
   "cell_type": "code",
   "execution_count": 81,
   "id": "c9345bb3-e12b-4c35-a25d-0debee4da39f",
   "metadata": {},
   "outputs": [
    {
     "data": {
      "text/plain": [
       "[<tensorflow.python.keras.layers.convolutional.Conv2D at 0x2a8558700>,\n",
       " <tensorflow.python.keras.layers.pooling.MaxPooling2D at 0x2a8558430>,\n",
       " <tensorflow.python.keras.layers.convolutional.Conv2D at 0x2a8558190>,\n",
       " <tensorflow.python.keras.layers.pooling.MaxPooling2D at 0x2a8558ca0>,\n",
       " <tensorflow.python.keras.layers.core.Flatten at 0x29a71fbb0>,\n",
       " <tensorflow.python.keras.layers.core.Dense at 0x29a71fdc0>,\n",
       " <tensorflow.python.keras.layers.core.Dense at 0x29a71f9a0>]"
      ]
     },
     "execution_count": 81,
     "metadata": {},
     "output_type": "execute_result"
    }
   ],
   "source": [
    "model.layers"
   ]
  },
  {
   "cell_type": "code",
   "execution_count": 72,
   "id": "aff8c6a3-84ec-4f83-a6ac-31d85eb4cd45",
   "metadata": {},
   "outputs": [
    {
     "data": {
      "text/plain": [
       "(1, 28, 28, 1)"
      ]
     },
     "execution_count": 72,
     "metadata": {},
     "output_type": "execute_result"
    }
   ],
   "source": [
    "x.shape"
   ]
  },
  {
   "cell_type": "code",
   "execution_count": null,
   "id": "9a405704-5b18-4dfe-ae31-36120f9f14ca",
   "metadata": {},
   "outputs": [],
   "source": []
  }
 ],
 "metadata": {
  "kernelspec": {
   "display_name": "Python 3 (ipykernel)",
   "language": "python",
   "name": "python3"
  },
  "language_info": {
   "codemirror_mode": {
    "name": "ipython",
    "version": 3
   },
   "file_extension": ".py",
   "mimetype": "text/x-python",
   "name": "python",
   "nbconvert_exporter": "python",
   "pygments_lexer": "ipython3",
   "version": "3.9.5"
  }
 },
 "nbformat": 4,
 "nbformat_minor": 5
}
